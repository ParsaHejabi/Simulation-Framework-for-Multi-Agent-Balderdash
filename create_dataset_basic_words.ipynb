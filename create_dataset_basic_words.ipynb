{
 "cells": [
  {
   "cell_type": "code",
   "execution_count": 5,
   "metadata": {},
   "outputs": [
    {
     "name": "stderr",
     "output_type": "stream",
     "text": [
      "[nltk_data] Downloading package wordnet to /home/parsa/nltk_data...\n",
      "[nltk_data]   Package wordnet is already up-to-date!\n",
      "[nltk_data] Downloading package words to /home/parsa/nltk_data...\n",
      "[nltk_data]   Package words is already up-to-date!\n",
      "[nltk_data] Downloading package omw-1.4 to /home/parsa/nltk_data...\n",
      "[nltk_data]   Package omw-1.4 is already up-to-date!\n"
     ]
    }
   ],
   "source": [
    "import nltk\n",
    "from nltk.corpus import wordnet as wn\n",
    "import csv\n",
    "import pandas as pd\n",
    "\n",
    "# Function to map short POS tags to full names\n",
    "def get_full_pos(pos_tag):\n",
    "    pos_dict = {\n",
    "        'n': 'noun',\n",
    "        'v': 'verb',\n",
    "        'a': 'adjective',\n",
    "        's': 'adjective',\n",
    "        'r': 'adverb'\n",
    "    }\n",
    "    return pos_dict.get(pos_tag, 'unknown')  # Return 'unknown' if no match found\n",
    "\n",
    "# Define a function to get the most common meaning and part of speech\n",
    "def get_definition_and_pos(word):\n",
    "    synsets = wn.synsets(word)\n",
    "    if not synsets:\n",
    "        return None, None  # In case no definition is found\n",
    "    \n",
    "    # Assume the first synset is the most common usage\n",
    "    most_common = synsets[0]\n",
    "    definition = most_common.definition()\n",
    "    pos = get_full_pos(most_common.pos())\n",
    "    return definition, pos\n",
    "\n",
    "# Check if resources are available, otherwise download them\n",
    "nltk.download('wordnet')\n",
    "nltk.download('words')\n",
    "nltk.download('omw-1.4')\n",
    "\n",
    "# Load the list of most common words\n",
    "freq_words = nltk.corpus.words.words()\n",
    "freq_words = freq_words[:500]  # Taking the first 500 most common words\n",
    "\n",
    "# Prepare data for CSV\n",
    "data = []\n",
    "for word in freq_words:\n",
    "    definition, pos = get_definition_and_pos(word)\n",
    "    if definition:  # Only include words for which a definition could be found\n",
    "        data.append([word, definition, pos])\n",
    "\n",
    "# Create a DataFrame and save to CSV\n",
    "df = pd.DataFrame(data, columns=['words', 'def', 'POS'])\n",
    "csv_file_path = 'english_frequent_words.csv'\n",
    "df.to_csv(csv_file_path, index=False)\n"
   ]
  },
  {
   "cell_type": "code",
   "execution_count": null,
   "metadata": {},
   "outputs": [],
   "source": []
  }
 ],
 "metadata": {
  "kernelspec": {
   "display_name": "venv",
   "language": "python",
   "name": "python3"
  },
  "language_info": {
   "codemirror_mode": {
    "name": "ipython",
    "version": 3
   },
   "file_extension": ".py",
   "mimetype": "text/x-python",
   "name": "python",
   "nbconvert_exporter": "python",
   "pygments_lexer": "ipython3",
   "version": "3.10.14"
  }
 },
 "nbformat": 4,
 "nbformat_minor": 2
}
